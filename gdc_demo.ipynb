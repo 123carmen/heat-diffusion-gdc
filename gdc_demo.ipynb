{
 "cells": [
  {
   "cell_type": "code",
   "execution_count": null,
   "metadata": {},
   "outputs": [],
   "source": [
    "import seaborn as sns\n",
    "\n",
    "from collections import defaultdict\n",
    "\n",
    "from data import PPRDataset, HeatDataset, set_train_val_test_split\n",
    "from models import GraphConvNet\n",
    "from util import train_seeds, test_seeds"
   ]
  },
  {
   "cell_type": "markdown",
   "metadata": {},
   "source": [
    "### Define parameters"
   ]
  },
  {
   "cell_type": "code",
   "execution_count": null,
   "metadata": {},
   "outputs": [],
   "source": [
    "gdc_kernel = 'ppr'\n",
    "\n",
    "dataset_params = {\n",
    "    'name': 'Cora',\n",
    "    'use_lcc': True,\n",
    "    'alpha': 0.05,\n",
    "    't_matrix': 'sym',\n",
    "    'self_loops': 1.0,\n",
    "    'k': 128,\n",
    "    'eps': None,\n",
    "    'sparse_normalization': 'sym_one'\n",
    "}"
   ]
  },
  {
   "cell_type": "markdown",
   "metadata": {},
   "source": [
    "### Load dataset"
   ]
  },
  {
   "cell_type": "code",
   "execution_count": null,
   "metadata": {},
   "outputs": [],
   "source": [
    "cora_ppr = PPRDataset(\n",
    "    name='Cora',\n",
    "    use_lcc=True,\n",
    "    alpha=0.05,\n",
    "    t_matrix='sym',\n",
    "    self_loops=1.0,\n",
    "    k=128,\n",
    "    eps=None,\n",
    "    sparse_normalization='sym_one'\n",
    ")\n",
    "cora_heat = HeatDataset(\n",
    "    name='Cora',\n",
    "    use_lcc=True,\n",
    "    t=5,\n",
    "    t_matrix='sym',\n",
    "    self_loops=1.0,\n",
    "    k=128,\n",
    "    eps=None,\n",
    "    sparse_normalization='sym_one'\n",
    ")"
   ]
  },
  {
   "cell_type": "markdown",
   "metadata": {},
   "source": [
    "### Create model"
   ]
  },
  {
   "cell_type": "code",
   "execution_count": null,
   "metadata": {},
   "outputs": [],
   "source": [
    "model = GraphConvNet(\n",
    "    dataset,\n",
    "    layer_type='GCN',\n",
    "    hidden=64,\n",
    "    dropout=0.5\n",
    ")"
   ]
  },
  {
   "cell_type": "markdown",
   "metadata": {},
   "source": [
    "### Train model"
   ]
  },
  {
   "cell_type": "code",
   "execution_count": null,
   "metadata": {},
   "outputs": [],
   "source": [
    "test = False\n",
    "dataset = cora_ppr\n",
    "seeds = test_seeds if test else train_seeds\n",
    "patience = 100\n",
    "max_epochs = 10000\n",
    "optimizer = Adam(\n",
    "    [\n",
    "        {'params': model.non_reg_params, 'weight_decay': 0},\n",
    "        {'params': model.reg_params, 'weight_decay': 0.05}\n",
    "    ],\n",
    "    lr=0.01\n",
    ")"
   ]
  },
  {
   "cell_type": "code",
   "execution_count": null,
   "metadata": {},
   "outputs": [],
   "source": [
    "def train_semi_sup(model, optimizer, data):\n",
    "    model.train()\n",
    "    optimizer.zero_grad()\n",
    "    logits = model(data)\n",
    "    loss = F.nll_loss(\n",
    "        logits[data.train_mask],\n",
    "        data.y[data.train_mask]\n",
    "    )\n",
    "    loss.backward()\n",
    "    optimizer.step()\n",
    "    return loss.item()"
   ]
  },
  {
   "cell_type": "code",
   "execution_count": null,
   "metadata": {},
   "outputs": [],
   "source": [
    "def eval_semi_sup(model, data, test, num_classes):\n",
    "    model.eval()\n",
    "    with torch.no_grad():\n",
    "        logits = model(data)\n",
    "    eval_dict = {}\n",
    "    keys = ['train', 'test'] if test else ['train', 'val']\n",
    "    for key in keys:\n",
    "        mask = data[f'{key}_mask']\n",
    "        pred = logits[mask].max(1)[1]\n",
    "        acc = pred.eq(data.y[mask]).sum().item() / mask.sum().item()\n",
    "        eval_dict['{}_acc'.format(key)] = acc\n",
    "    return eval_dict"
   ]
  },
  {
   "cell_type": "code",
   "execution_count": null,
   "metadata": {},
   "outputs": [],
   "source": [
    "best_dict = defaultdict(list)\n",
    "\n",
    "for seed in seeds:\n",
    "    set_train_val_test_split(\n",
    "        seed=seed,\n",
    "        data=dataset.data\n",
    "    )\n",
    "    tmp_dict = {'val_acc': 0}\n",
    "    patience_cnt = 0\n",
    "    for epoch in range(1, max_epochs + 1):\n",
    "        if patience_cnt == patience:\n",
    "            break\n",
    "        train_loss = train_semi_sup(\n",
    "            model,\n",
    "            optimizers,\n",
    "            dataset.data\n",
    "        )\n",
    "        eval_dict = evaluate_semi_sup(\n",
    "            model,\n",
    "            dataset.data,\n",
    "            test\n",
    "        )\n",
    "        if eval_dict['val_acc'] <= tmp_dict['val_acc']:\n",
    "                patience_counter += 1\n",
    "        else:\n",
    "            patience_counter = 0\n",
    "            tmp_dict['epoch'] = epoch\n",
    "            tmp_dict.update(eval_dict)\n",
    "    for k, v in tmp_dict.items():\n",
    "        best_dict[k].append(v)"
   ]
  },
  {
   "cell_type": "code",
   "execution_count": null,
   "metadata": {},
   "outputs": [],
   "source": [
    "boots_series = sns.algorithms.bootstrap(\n",
    "    best_dict['val_acc'],\n",
    "    func=np.mean,\n",
    "    n_boot=1000\n",
    ")\n",
    "best_dict['acc_ci'] = list(sns.utils.ci(boots_series, 95))"
   ]
  }
 ],
 "metadata": {
  "kernelspec": {
   "display_name": "Python 3",
   "language": "python",
   "name": "python3"
  },
  "language_info": {
   "codemirror_mode": {
    "name": "ipython",
    "version": 3
   },
   "file_extension": ".py",
   "mimetype": "text/x-python",
   "name": "python",
   "nbconvert_exporter": "python",
   "pygments_lexer": "ipython3",
   "version": "3.7.3"
  }
 },
 "nbformat": 4,
 "nbformat_minor": 2
}
