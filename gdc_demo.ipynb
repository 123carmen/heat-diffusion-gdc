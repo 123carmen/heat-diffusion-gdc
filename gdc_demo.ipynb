{
 "cells": [
  {
   "cell_type": "code",
   "execution_count": 1,
   "metadata": {},
   "outputs": [],
   "source": [
    "from collections import defaultdict\n",
    "\n",
    "from tqdm import tqdm_notebook\n",
    "import seaborn as sns\n",
    "import numpy as np\n",
    "\n",
    "import torch\n",
    "import torch.nn.functional as F\n",
    "\n",
    "from data import get_dataset, PPRDataset, HeatDataset, set_train_val_test_split\n",
    "from models import GCNConvNet\n",
    "from seeds import val_seeds, test_seeds"
   ]
  },
  {
   "cell_type": "markdown",
   "metadata": {},
   "source": [
    "# GCN with GDC\n",
    "This notebook provides an example of enhancing GCN with GDC."
   ]
  },
  {
   "cell_type": "markdown",
   "metadata": {},
   "source": [
    "## Load dataset and preprocess with GDC"
   ]
  },
  {
   "cell_type": "code",
   "execution_count": 2,
   "metadata": {},
   "outputs": [],
   "source": [
    "cora_raw = dataset = get_dataset(\n",
    "    'Cora',\n",
    "    use_lcc=True\n",
    ")\n",
    "\n",
    "cora_ppr = PPRDataset(\n",
    "    name='Cora',\n",
    "    use_lcc=True,\n",
    "    alpha=0.05,\n",
    "    t_matrix='sym',\n",
    "    self_loops=1.0,\n",
    "    k=128,\n",
    "    eps=None,\n",
    "    sparse_normalization='col_one'\n",
    ")\n",
    "\n",
    "cora_heat = HeatDataset(\n",
    "    name='Cora',\n",
    "    use_lcc=True,\n",
    "    t=5,\n",
    "    t_matrix='sym',\n",
    "    self_loops=1.0,\n",
    "    k=None,\n",
    "    eps=128,\n",
    "    sparse_normalization='sym_one'\n",
    ")"
   ]
  },
  {
   "cell_type": "markdown",
   "metadata": {},
   "source": [
    "Choose no GDC, GDC using diffusion defined by personalized PageRank (PPR), or GDC with heat kernel diffusion."
   ]
  },
  {
   "cell_type": "code",
   "execution_count": 3,
   "metadata": {},
   "outputs": [],
   "source": [
    "# dataset = cora_raw\n",
    "# reg_lambda = 0.06\n",
    "\n",
    "dataset = cora_ppr\n",
    "reg_lambda = 0.10\n",
    "\n",
    "# dataset = cora_heat\n",
    "# reg_lambda = 0.09"
   ]
  },
  {
   "cell_type": "markdown",
   "metadata": {},
   "source": [
    "We will use the GPU in this notebook. If you want to use a CPU instead simply change this line to `cpu`."
   ]
  },
  {
   "cell_type": "code",
   "execution_count": 4,
   "metadata": {},
   "outputs": [
    {
     "data": {
      "text/plain": [
       "Data(edge_attr=[318080], edge_index=[2, 318080], test_mask=[2485], train_mask=[2485], val_mask=[2485], x=[2485, 1433], y=[2485])"
      ]
     },
     "execution_count": 4,
     "metadata": {},
     "output_type": "execute_result"
    }
   ],
   "source": [
    "device = 'cuda'\n",
    "dataset.data.to(device)"
   ]
  },
  {
   "cell_type": "markdown",
   "metadata": {},
   "source": [
    "## Create GCN model"
   ]
  },
  {
   "cell_type": "code",
   "execution_count": 5,
   "metadata": {},
   "outputs": [],
   "source": [
    "model = GCNConvNet(\n",
    "    dataset,\n",
    "    hidden=[64],\n",
    "    dropout=0.5\n",
    ")"
   ]
  },
  {
   "cell_type": "markdown",
   "metadata": {},
   "source": [
    "## Train model"
   ]
  },
  {
   "cell_type": "code",
   "execution_count": 6,
   "metadata": {},
   "outputs": [],
   "source": [
    "test = False"
   ]
  },
  {
   "cell_type": "code",
   "execution_count": 7,
   "metadata": {},
   "outputs": [],
   "source": [
    "seeds = test_seeds if test else val_seeds\n",
    "patience = 100\n",
    "max_epochs = 10000\n",
    "lr = 0.01\n",
    "num_development = 1500\n",
    "num_per_class = 20"
   ]
  },
  {
   "cell_type": "code",
   "execution_count": 8,
   "metadata": {},
   "outputs": [],
   "source": [
    "def train_semi_sup(model, optimizer, data):\n",
    "    model.train()\n",
    "    optimizer.zero_grad()\n",
    "    logits = model(data)\n",
    "    loss = F.nll_loss(\n",
    "        logits[data.train_mask],\n",
    "        data.y[data.train_mask]\n",
    "    )\n",
    "    loss.backward()\n",
    "    optimizer.step()\n",
    "    return loss.item()"
   ]
  },
  {
   "cell_type": "code",
   "execution_count": 9,
   "metadata": {},
   "outputs": [],
   "source": [
    "def eval_semi_sup(model, data, test):\n",
    "    model.eval()\n",
    "    with torch.no_grad():\n",
    "        logits = model(data)\n",
    "    eval_dict = {}\n",
    "    keys = ['train', 'test'] if test else ['train', 'val']\n",
    "    for key in keys:\n",
    "        mask = data[f'{key}_mask']\n",
    "        pred = logits[mask].max(1)[1]\n",
    "        acc = pred.eq(data.y[mask]).sum().item() / mask.sum().item()\n",
    "        eval_dict[f'{key}_acc'] = acc\n",
    "    return eval_dict"
   ]
  },
  {
   "cell_type": "code",
   "execution_count": 10,
   "metadata": {},
   "outputs": [
    {
     "data": {
      "application/vnd.jupyter.widget-view+json": {
       "model_id": "14452dc770554f6381ad98fd99a28ca0",
       "version_major": 2,
       "version_minor": 0
      },
      "text/plain": [
       "HBox(children=(IntProgress(value=0), HTML(value='')))"
      ]
     },
     "metadata": {},
     "output_type": "display_data"
    },
    {
     "name": "stdout",
     "output_type": "stream",
     "text": [
      "\n"
     ]
    }
   ],
   "source": [
    "best_dict = defaultdict(list)\n",
    "\n",
    "for seed in tqdm_notebook(seeds):\n",
    "    set_train_val_test_split(\n",
    "        seed=seed,\n",
    "        data=dataset.data,\n",
    "        num_development=num_development,\n",
    "        num_per_class=num_per_class\n",
    "    )\n",
    "    \n",
    "    model.to(device).reset_parameters()\n",
    "    optimizer = torch.optim.Adam(\n",
    "        [\n",
    "            {'params': model.non_reg_params, 'weight_decay': 0},\n",
    "            {'params': model.reg_params, 'weight_decay': reg_lambda}\n",
    "        ],\n",
    "        lr=lr)\n",
    "    \n",
    "    tmp_dict = {'val_acc': 0}\n",
    "    patience_cnt = 0\n",
    "    \n",
    "    # Training loop\n",
    "    for epoch in range(1, max_epochs + 1):\n",
    "        if patience_cnt == patience:\n",
    "            break\n",
    "        train_loss = train_semi_sup(\n",
    "            model,\n",
    "            optimizer,\n",
    "            dataset.data\n",
    "        )\n",
    "        eval_dict = eval_semi_sup(\n",
    "            model,\n",
    "            dataset.data,\n",
    "            False\n",
    "        )\n",
    "        if eval_dict['val_acc'] <= tmp_dict['val_acc']:\n",
    "            patience_cnt += 1\n",
    "        else:\n",
    "            patience_cnt = 0\n",
    "            tmp_dict['epoch'] = epoch\n",
    "            tmp_dict.update(eval_dict)\n",
    "            if test:\n",
    "                res_dict = eval_semi_sup(\n",
    "                    model,\n",
    "                    dataset.data,\n",
    "                    True\n",
    "                )\n",
    "                res_dict['epoch'] = epoch\n",
    "            else:\n",
    "                res_dict = tmp_dict\n",
    "\n",
    "    for k, v in res_dict.items():\n",
    "        best_dict[k.replace('val_', '').replace('test_', '')].append(v)"
   ]
  },
  {
   "cell_type": "markdown",
   "metadata": {},
   "source": [
    "## Evaluate result"
   ]
  },
  {
   "cell_type": "markdown",
   "metadata": {},
   "source": [
    "Calculate statistics using bootstrapping."
   ]
  },
  {
   "cell_type": "code",
   "execution_count": 11,
   "metadata": {},
   "outputs": [],
   "source": [
    "mean_acc = np.mean(best_dict['acc'])\n",
    "\n",
    "boots_series = sns.algorithms.bootstrap(\n",
    "    best_dict['acc'],\n",
    "    func=np.mean,\n",
    "    n_boot=1000\n",
    ")\n",
    "best_dict['acc_ci'] = sns.utils.ci(boots_series, 95)\n",
    "uncertainty = np.max(np.abs(best_dict['acc_ci'] - mean_acc))"
   ]
  },
  {
   "cell_type": "code",
   "execution_count": 12,
   "metadata": {},
   "outputs": [
    {
     "name": "stdout",
     "output_type": "stream",
     "text": [
      "Mean accuracy: 83.21 +- 0.22%\n"
     ]
    }
   ],
   "source": [
    "print(f\"Mean accuracy: {100 * mean_acc:.2f} +- {100 * uncertainty:.2f}%\")"
   ]
  }
 ],
 "metadata": {
  "kernelspec": {
   "display_name": "Python 3",
   "language": "python",
   "name": "python3"
  },
  "language_info": {
   "codemirror_mode": {
    "name": "ipython",
    "version": 3
   },
   "file_extension": ".py",
   "mimetype": "text/x-python",
   "name": "python",
   "nbconvert_exporter": "python",
   "pygments_lexer": "ipython3",
   "version": "3.7.3"
  }
 },
 "nbformat": 4,
 "nbformat_minor": 4
}
